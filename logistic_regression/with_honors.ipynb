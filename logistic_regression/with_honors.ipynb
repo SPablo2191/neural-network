{
 "cells": [
  {
   "cell_type": "code",
   "execution_count": 1,
   "metadata": {},
   "outputs": [],
   "source": [
    "# Tratamiento de datos\n",
    "import pandas as pd\n",
    "import numpy as np\n",
    "# Gráficos\n",
    "import matplotlib.pyplot as plt\n",
    "from matplotlib import style\n",
    "import seaborn as sns\n",
    "# Preprocesado y modelado\n",
    "from sklearn.linear_model import LogisticRegression\n",
    "from sklearn.model_selection import train_test_split\n",
    "from sklearn.metrics import accuracy_score\n",
    "import statsmodels.api as sm\n",
    "import statsmodels.formula.api as smf\n",
    "from statsmodels.stats.weightstats import ttest_ind\n",
    "# Configuración matplotlib\n",
    "plt.rcParams['image.cmap'] = \"bwr\"\n",
    "#plt.rcParams['figure.dpi'] = \"100\"\n",
    "plt.rcParams['savefig.bbox'] = \"tight\"\n",
    "style.use('ggplot') or plt.style.use('ggplot')\n",
    "# Configuración warnings\n",
    "import warnings\n",
    "warnings.filterwarnings('ignore')\n"
   ]
  },
  {
   "cell_type": "code",
   "execution_count": null,
   "metadata": {},
   "outputs": [],
   "source": [
    "matricula = np.array([0, 0, 0, 0, 0, 0, 0, 0, 0, 0, 0, 1, 0, 1, 0, 0,\n",
    "0, 0, 1,\n",
    "0, 0, 1, 0, 0, 0, 0, 1, 0, 0, 0, 0, 0, 1, 0, 0,\n",
    "1, 0, 1,\n",
    "0, 0, 0, 0, 0, 0, 1, 0, 0, 0, 0, 0, 1, 0, 0, 0,\n",
    "1, 0, 0,\n",
    "0, 0, 0, 0, 1, 0, 0, 0, 0, 0, 0, 0, 0, 0, 0, 1,\n",
    "0, 0, 0,\n",
    "1, 0, 0, 0, 0, 0, 0, 1, 0, 1, 0, 0, 0, 0, 1, 0,\n",
    "1, 0, 0,\n",
    "1, 1, 1, 0, 1, 0, 0, 0, 0, 0, 0, 1, 0, 0, 1, 0,\n",
    "0, 0, 1,\n",
    "1, 0, 0, 1, 0, 0, 0, 0, 0, 0, 1, 0, 0, 0, 0, 0,\n",
    "0, 1, 1,\n",
    "0, 0, 1, 0, 0, 0, 0, 0, 0, 0, 0, 0, 0, 1, 0, 0,\n",
    "0, 0, 0,\n",
    "0, 0, 1, 0, 0, 0, 0, 1, 1, 0, 1, 1, 0, 0, 0, 0,\n",
    "1, 0, 0,\n",
    "0, 0, 0, 0, 0, 1, 0, 0, 1, 1, 0, 1, 1, 1, 1, 0,\n",
    "0, 1, 0,\n",
    "0, 0, 0, 0, 1, 0, 0, 0, 1, 1])\n",
    "matematicas = np.array([\n",
    "41, 53, 54, 47, 57, 51, 42, 45, 54, 52, 51, 51, 71,\n",
    "57, 50, 43,\n",
    "51, 60, 62, 57, 35, 75, 45, 57, 45, 46, 66, 57, 49,\n",
    "49, 57, 64,\n",
    "63, 57, 50, 58, 75, 68, 44, 40, 41, 62, 57, 43, 48,\n",
    "63, 39, 70,\n",
    "63, 59, 61, 38, 61, 49, 73, 44, 42, 39, 55, 52, 45,\n",
    "61, 39, 41,\n",
    "50, 40, 60, 47, 59, 49, 46, 58, 71, 58, 46, 43, 54,\n",
    "56, 46, 54,\n",
    "57, 54, 71, 48, 40, 64, 51, 39, 40, 61, 66, 49, 65,\n",
    "52, 46, 61,\n",
    "72, 71, 40, 69, 64, 56, 49, 54, 53, 66, 67, 40, 46,\n",
    "69, 40, 41,\n",
    "57, 58, 57, 37, 55, 62, 64, 40, 50, 46, 53, 52, 45,\n",
    "56, 45, 54,\n",
    "56, 41, 54, 72, 56, 47, 49, 60, 54, 55, 33, 49, 43,\n",
    "50, 52, 48,\n",
    "58, 43, 41, 43, 46, 44, 43, 61, 40, 49, 56, 61, 50,\n",
    "51, 42, 67,\n",
    "53, 50, 51, 72, 48, 40, 53, 39, 63, 51, 45, 39, 42,\n",
    "62, 44, 65,\n",
    "63, 54, 45, 60, 49, 48, 57, 55, 66, 64, 55, 42, 56,\n",
    "53, 41, 42,\n",
    "53, 42, 60, 52, 38, 57, 58, 65])\n",
    "datos = pd.DataFrame({'matricula': matricula, 'matematicas': matematicas})\n",
    "datos.head(3)"
   ]
  },
  {
   "cell_type": "code",
   "execution_count": null,
   "metadata": {},
   "outputs": [],
   "source": [
    "# Número de observaciones por clase\n",
    "datos.matricula.value_counts().sort_index()\n",
    "# Gráfico\n",
    "fig, ax = plt.subplots(figsize=(6, 3.84))"
   ]
  },
  {
   "cell_type": "code",
   "execution_count": null,
   "metadata": {},
   "outputs": [],
   "source": [
    "sns.violinplot(\n",
    "x = 'matricula',\n",
    "y = 'matematicas',\n",
    "data = datos,\n",
    "#color = \"white\",\n",
    "ax = ax\n",
    ")\n",
    "ax.set_title('Distribución notas de matemáticas por clase');\n",
    "# T-test entre clases\n",
    "res_ttest = ttest_ind(\n",
    "x1 = matematicas[matricula == 0],\n",
    "x2 = matematicas[matricula == 1],\n",
    "alternative='two-sided'\n",
    ")\n",
    "print(f\"t={res_ttest[0]}, p-value={res_ttest[1]}\")"
   ]
  },
  {
   "cell_type": "code",
   "execution_count": null,
   "metadata": {},
   "outputs": [],
   "source": [
    "# División de los datos en train y test\n",
    "X = datos[['matematicas']]\n",
    "y = datos['matricula']\n",
    "X_train, X_test, y_train, y_test = train_test_split(\n",
    "X.values.reshape(-1,1),\n",
    "y.values.reshape(-1,1),\n",
    "train_size = 0.8,\n",
    "random_state = 1234,\n",
    "shuffle = True\n",
    ")\n",
    "# Creación del modelo\n",
    "# Para no incluir ningún tipo de regularización en el modelo se indica\n",
    "# penalty='none'\n",
    "modelo = LogisticRegression(penalty='none')\n",
    "modelo.fit(X = X_train.reshape(-1, 1), y = y_train)\n",
    "# Información del modelo\n",
    "print(\"Intercept:\", modelo.intercept_)\n",
    "print(\"Coeficiente:\", list(zip(X.columns, modelo.coef_.flatten(), )))\n",
    "print(\"Accuracy de entrenamiento:\", modelo.score(X, y))"
   ]
  },
  {
   "cell_type": "code",
   "execution_count": null,
   "metadata": {},
   "outputs": [],
   "source": [
    "# Con .predict_proba() se obtiene, para cada observación, la probabilidad predicha\n",
    "# de pertenecer a cada una de las dos clases.\n",
    "predicciones = modelo.predict_proba(X = X_test)\n",
    "predicciones = pd.DataFrame(predicciones, columns = modelo.classes_)\n",
    "predicciones.head(3)\n",
    "# Predicciones con clasificación final\n",
    "# ==============================================================================\n",
    "# Con .predict() se obtiene, para cada observación, la clasificación predicha por\n",
    "# el modelo. Esta clasificación se corresponde con la clase con mayor\n",
    "probabilidad.\n",
    "predicciones = modelo.predict(X = X_test)\n",
    "predicciones"
   ]
  },
  {
   "cell_type": "code",
   "execution_count": null,
   "metadata": {},
   "outputs": [],
   "source": [
    "# División de los datos en train y test\n",
    "X = datos[['matematicas']]\n",
    "y = datos['matricula']\n",
    "X_train, X_test, y_train, y_test = train_test_split(\n",
    "X.values.reshape(-1,1),\n",
    "y.values.reshape(-1,1),\n",
    "train_size = 0.8,\n",
    "random_state = 1234,\n",
    "shuffle = True\n",
    ")\n",
    "# Creación del modelo utilizando matrices como en scikitlearn\n",
    "# ==============================================================================\n",
    "# A la matriz de predictores se le tiene que añadir una columna de 1s para el intercept del modelo\n",
    "X_train = sm.add_constant(X_train, prepend=True)\n",
    "modelo = sm.Logit(endog=y_train, exog=X_train,)"
   ]
  },
  {
   "cell_type": "code",
   "execution_count": null,
   "metadata": {},
   "outputs": [],
   "source": [
    "modelo = modelo.fit()\n",
    "print(modelo.summary())"
   ]
  },
  {
   "cell_type": "code",
   "execution_count": null,
   "metadata": {},
   "outputs": [],
   "source": [
    "# Intervalos de confianza para los coeficientes del modelo\n",
    "intervalos_ci = modelo.conf_int(alpha=0.05)\n",
    "intervalos_ci = pd.DataFrame(intervalos_ci)\n",
    "intervalos_ci.columns = ['2.5%', '97.5%']\n",
    "intervalos_ci"
   ]
  },
  {
   "cell_type": "code",
   "execution_count": null,
   "metadata": {},
   "outputs": [],
   "source": [
    "predicciones = modelo.predict(exog = X_train)\n",
    "predicciones[:4]"
   ]
  },
  {
   "cell_type": "code",
   "execution_count": null,
   "metadata": {},
   "outputs": [],
   "source": [
    "# Clasificación predicha\n",
    "clasificacion = np.where(predicciones<0.5, 0, 1)\n",
    "clasificacion"
   ]
  },
  {
   "cell_type": "code",
   "execution_count": null,
   "metadata": {},
   "outputs": [],
   "source": [
    "# Predicciones en todo el rango de X\n",
    "# Se crea un vector con nuevos valores interpolados en el rango de observaciones.\n",
    "grid_X = np.linspace(\n",
    "start = min(datos.matematicas),\n",
    "stop = max(datos.matematicas),\n",
    "num = 200\n",
    ").reshape(-1,1)\n",
    "grid_X = sm.add_constant(grid_X, prepend=True)\n",
    "predicciones = modelo.predict(exog = grid_X)\n",
    "# Gráfico del modelo\n",
    "fig, ax = plt.subplots(figsize=(6, 3.84))\n",
    "ax.scatter(\n",
    "X_train[(y_train == 1).flatten(), 1],\n",
    "y_train[(y_train == 1).flatten()].flatten()\n",
    ")\n",
    "ax.scatter(\n",
    "X_train[(y_train == 0).flatten(), 1],\n",
    "y_train[(y_train == 0).flatten()].flatten()\n",
    ")\n",
    "ax.plot(grid_X[:, 1], predicciones, color = \"gray\")\n",
    "ax.set_title(\"Modelo regresión logística\")\n",
    "ax.set_ylabel(\"P(matrícula = 1 | matemáticas)\")\n",
    "ax.set_xlabel(\"Nota matemáticas\");"
   ]
  },
  {
   "cell_type": "code",
   "execution_count": null,
   "metadata": {},
   "outputs": [],
   "source": [
    "# Accuracy de test del modelo\n",
    "X_test = sm.add_constant(X_test, prepend=True)\n",
    "predicciones = modelo.predict(exog = X_test)"
   ]
  },
  {
   "cell_type": "code",
   "execution_count": null,
   "metadata": {},
   "outputs": [],
   "source": [
    "clasificacion = np.where(predicciones<0.5, 0, 1)\n",
    "accuracy = accuracy_score(\n",
    "y_true = y_test,\n",
    "y_pred = clasificacion,\n",
    "normalize = True\n",
    ")\n",
    "print(\"\")\n",
    "print(f\"El accuracy de test es: {100*accuracy}%\")"
   ]
  }
 ],
 "metadata": {
  "kernelspec": {
   "display_name": "base",
   "language": "python",
   "name": "python3"
  },
  "language_info": {
   "codemirror_mode": {
    "name": "ipython",
    "version": 3
   },
   "file_extension": ".py",
   "mimetype": "text/x-python",
   "name": "python",
   "nbconvert_exporter": "python",
   "pygments_lexer": "ipython3",
   "version": "3.10.9"
  },
  "orig_nbformat": 4
 },
 "nbformat": 4,
 "nbformat_minor": 2
}
