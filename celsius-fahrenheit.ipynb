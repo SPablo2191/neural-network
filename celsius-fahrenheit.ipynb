{
 "cells": [
  {
   "cell_type": "code",
   "execution_count": 1,
   "id": "3e0bc197",
   "metadata": {},
   "outputs": [
    {
     "name": "stderr",
     "output_type": "stream",
     "text": [
      "2023-05-08 15:44:30.283079: I tensorflow/tsl/cuda/cudart_stub.cc:28] Could not find cuda drivers on your machine, GPU will not be used.\n",
      "2023-05-08 15:44:30.542059: I tensorflow/tsl/cuda/cudart_stub.cc:28] Could not find cuda drivers on your machine, GPU will not be used.\n",
      "2023-05-08 15:44:30.545218: I tensorflow/core/platform/cpu_feature_guard.cc:182] This TensorFlow binary is optimized to use available CPU instructions in performance-critical operations.\n",
      "To enable the following instructions: AVX2 FMA, in other operations, rebuild TensorFlow with the appropriate compiler flags.\n",
      "2023-05-08 15:44:38.379823: W tensorflow/compiler/tf2tensorrt/utils/py_utils.cc:38] TF-TRT Warning: Could not find TensorRT\n"
     ]
    }
   ],
   "source": [
    "import tensorflow as tf\n",
    "import numpy as np\n"
   ]
  },
  {
   "cell_type": "code",
   "execution_count": 2,
   "id": "bc387b6e",
   "metadata": {},
   "outputs": [],
   "source": [
    "# son nuestros datos y resultados que consumira nuestro modelo\n",
    "celsius = np.array([-40,-10,0,8,15,22,38],dtype=float)\n",
    "fahrenheit = np.array([-40,14,32,46,59,72,100],dtype=float)"
   ]
  },
  {
   "cell_type": "code",
   "execution_count": 3,
   "id": "be32e7d8",
   "metadata": {},
   "outputs": [],
   "source": [
    "# usamos el framework keras (nos ahorra lineas de codigo para la creacion de las capas)\n",
    "# capas densas => capa con conexion a todas la neuronas de la siguiente capa\n",
    "# units cuantas neuronas tenemos\n",
    "# input_shape => le decimos que tenemos una entrada de una neurona\n",
    "\n",
    "# capa = tf.keras.layers.Dense(units=1,input_shape=[1])\n",
    "# la capa esta volando => necesito ponerla en un modelo\n",
    "# Sequential es un modelo simple \n",
    "\n",
    "# modelo = tf.keras.Sequential([capa])"
   ]
  },
  {
   "cell_type": "code",
   "execution_count": 4,
   "id": "98b28d04",
   "metadata": {},
   "outputs": [],
   "source": [
    "# que pasa si añadimos una nuevas capas ocultas\n",
    "# con mas capas => tarda mas\n",
    "# aprendizaje mucho mas rapido\n",
    "oculta1 = tf.keras.layers.Dense(units=7,input_shape=[1])\n",
    "oculta2 = tf.keras.layers.Dense(units=7)\n",
    "salida = tf.keras.layers.Dense(units=1)\n",
    "modelo = tf.keras.Sequential([oculta1,oculta2,salida])"
   ]
  },
  {
   "cell_type": "code",
   "execution_count": 5,
   "id": "2eb0d17e",
   "metadata": {},
   "outputs": [],
   "source": [
    "# quiero compilar el modelo para que empieze a aprender => hay disitintos tipos que determinan como aprendera nuestro modelo\n",
    "# optimizer => adam algoritmo => sirve para equilibrar o ajustar los pesos y no desaprenda nuestro modelo\n",
    "# el valor numerico es la taza de aprendizaje => que tanto ajustar\n",
    "# taza chica, aprendizaje lento\n",
    "# taza grande, no podra hacer cambios finos para acercarse lo mas posbile al valor real\n",
    "# error cuadratio medio => una poca cantidad de errores grandes es peor que muchos pequeños\n",
    "modelo.compile(optimizer=tf.keras.optimizers.Adam(0.01),loss='mean_squared_error')"
   ]
  },
  {
   "cell_type": "code",
   "execution_count": 10,
   "id": "d665f2b9",
   "metadata": {},
   "outputs": [
    {
     "name": "stdout",
     "output_type": "stream",
     "text": [
      "Comenzando entrenamiento...\n",
      "modelo entrenado!!\n"
     ]
    }
   ],
   "source": [
    "print(\"Comenzando entrenamiento...\")\n",
    "# entrenamos el modelo, con datos de entrada, los resultado esperados, los epochs que son las vueltas a hacer para ir ajustando el aprendizaje\n",
    "# verbose igual a false para que no muestre todo lo que hace durante el aprendizaje\n",
    "historial = modelo.fit(celsius,fahrenheit,epochs=1000,verbose=False)\n",
    "print(\"modelo entrenado!!\")"
   ]
  },
  {
   "cell_type": "code",
   "execution_count": 11,
   "id": "61b5b322",
   "metadata": {},
   "outputs": [
    {
     "data": {
      "text/plain": [
       "[<matplotlib.lines.Line2D at 0x7f99bd1b5780>]"
      ]
     },
     "execution_count": 11,
     "metadata": {},
     "output_type": "execute_result"
    },
    {
     "data": {
      "image/png": "[encoded data removed]",
      "text/plain": [
       "<Figure size 640x480 with 1 Axes>"
      ]
     },
     "metadata": {},
     "output_type": "display_data"
    }
   ],
   "source": [
    "import matplotlib.pyplot as plt\n",
    "# con esto podemos ver que tanto se equivoco hasta finalmente aprender a calcular\n",
    "plt.xlabel(\"# Epoca\")\n",
    "plt.ylabel(\"Magnitud de Perdida\")\n",
    "plt.plot(historial.history[\"loss\"])\n"
   ]
  },
  {
   "cell_type": "code",
   "execution_count": 12,
   "id": "24e01c9f",
   "metadata": {},
   "outputs": [
    {
     "name": "stdout",
     "output_type": "stream",
     "text": [
      "Hagamos una predicción\n",
      "1/1 [==============================] - 0s 83ms/step\n",
      "el resultado es [[211.74745]] F°\n"
     ]
    }
   ],
   "source": [
    "print(\"Hagamos una predicción\")\n",
    "resultado = modelo.predict([100.0])\n",
    "print(f\"el resultado es {resultado} F°\")"
   ]
  },
  {
   "cell_type": "code",
   "execution_count": 36,
   "id": "07c3ceba",
   "metadata": {},
   "outputs": [
    {
     "name": "stdout",
     "output_type": "stream",
     "text": [
      "Variables internas del modelo\n",
      "[array([[ 0.35721603,  0.75834167, -0.4030296 ]], dtype=float32), array([-2.4967823,  3.454089 , -3.7274365], dtype=float32)]\n",
      "[array([[-0.42794678, -1.2134833 , -0.01765824],\n",
      "       [ 1.407122  ,  0.5610322 , -0.45263964],\n",
      "       [-1.1760541 , -0.5985235 ,  0.8011783 ]], dtype=float32), array([ 3.8870685,  3.6087978, -1.948481 ], dtype=float32)]\n",
      "[array([[ 0.9686239],\n",
      "       [ 1.2145045],\n",
      "       [-0.252932 ]], dtype=float32), array([3.4403787], dtype=float32)]\n"
     ]
    }
   ],
   "source": [
    "print(\"Variables internas del modelo\")\n",
    "# con solo una capa\n",
    "#print(capa.get_weights())\n",
    "# con 2 capas ocultas\n",
    "print(oculta1.get_weights())\n",
    "print(oculta2.get_weights())\n",
    "print(salida.get_weights())"
   ]
  },
  {
   "cell_type": "code",
   "execution_count": null,
   "id": "5fb6b477",
   "metadata": {},
   "outputs": [],
   "source": []
  }
 ],
 "metadata": {
  "kernelspec": {
   "display_name": "Python 3 (ipykernel)",
   "language": "python",
   "name": "python3"
  },
  "language_info": {
   "codemirror_mode": {
    "name": "ipython",
    "version": 3
   },
   "file_extension": ".py",
   "mimetype": "text/x-python",
   "name": "python",
   "nbconvert_exporter": "python",
   "pygments_lexer": "ipython3",
   "version": "3.10.9"
  }
 },
 "nbformat": 4,
 "nbformat_minor": 5
}
